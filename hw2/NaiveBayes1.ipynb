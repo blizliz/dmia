{
 "cells": [
  {
   "cell_type": "markdown",
   "metadata": {},
   "source": [
    "# Реализуем методы для наивного байеса"
   ]
  },
  {
   "cell_type": "markdown",
   "metadata": {},
   "source": [
    "Сгенерируем выборку, в которой каждый признак имеет некоторое своё распределение, параметры которого отличаются для каждого класса. Затем реализуем несколько методов для класса, который уже частично написан ниже:\n",
    "- метод predict\n",
    "- метод \\_find\\_expon\\_params и \\_get\\_expon\\_density для экспоненциального распределения\n",
    "- метод \\_find\\_norm\\_params и \\_get\\_norm\\_probability для биномиального распределения\n",
    "\n",
    "Для имплементации \\_find\\_something\\_params изучите документацию функций для работы с этими распределениями в scipy.stats и используйте предоставленные там методы."
   ]
  },
  {
   "cell_type": "code",
   "execution_count": 1,
   "metadata": {},
   "outputs": [],
   "source": [
    "import numpy as np\n",
    "import scipy\n",
    "import scipy.stats"
   ]
  },
  {
   "cell_type": "markdown",
   "metadata": {},
   "source": [
    "Сформируем параметры генерации для трех датасетов"
   ]
  },
  {
   "cell_type": "code",
   "execution_count": 2,
   "metadata": {},
   "outputs": [
    {
     "data": {
      "text/plain": [
       "((5000, 1), (5000,), ['bernoulli'])"
      ]
     },
     "execution_count": 2,
     "metadata": {},
     "output_type": "execute_result"
    }
   ],
   "source": [
    "func_params_set0 = [(scipy.stats.bernoulli, [dict(p=0.1), dict(p=0.5)]),\n",
    "                   ]\n",
    "\n",
    "func_params_set1 = [(scipy.stats.bernoulli, [dict(p=0.1), dict(p=0.5)]),\n",
    "                    (scipy.stats.expon, [dict(scale=1), dict(scale=0.3)]),\n",
    "                   ]\n",
    "\n",
    "func_params_set2 = [(scipy.stats.bernoulli, [dict(p=0.1), dict(p=0.5)]),\n",
    "                    (scipy.stats.expon, [dict(scale=1), dict(scale=0.3)]),\n",
    "                    (scipy.stats.norm, [dict(loc=0, scale=1), dict(loc=1, scale=2)]),\n",
    "                   ]\n",
    "\n",
    "def generate_dataset_for_nb(func_params_set=[], size = 2500, random_seed=0):\n",
    "    '''\n",
    "    Генерирует выборку с заданными параметрами распределений P(x|y).\n",
    "    Число классов задается длиной списка с параметрами.\n",
    "    Возвращает X, y, список с названиями распределений\n",
    "    '''\n",
    "    np.random.seed(random_seed)\n",
    "\n",
    "    X = []\n",
    "    names = []\n",
    "    for func, params in func_params_set:\n",
    "        names.append(func.name)\n",
    "        f = []\n",
    "        for i, param in enumerate(params):\n",
    "            f.append(func.rvs(size=size, **param))\n",
    "        f = np.concatenate(f).reshape(-1,1)\n",
    "        X.append(f)\n",
    "\n",
    "    X = np.concatenate(X, 1)\n",
    "    y = np.array([0] * size + [1] * size)\n",
    "\n",
    "    shuffle_inds = np.random.choice(range(len(X)), size=len(X), replace=False)\n",
    "    X = X[shuffle_inds]\n",
    "    y = y[shuffle_inds]\n",
    "\n",
    "    return X, y, names \n",
    "\n",
    "X, y, distrubution_names = generate_dataset_for_nb(func_params_set0)\n",
    "X.shape, y.shape, distrubution_names"
   ]
  },
  {
   "cell_type": "code",
   "execution_count": 3,
   "metadata": {},
   "outputs": [],
   "source": [
    "from collections import defaultdict\n",
    "from sklearn.base import BaseEstimator, ClassifierMixin\n",
    "\n",
    "class NaiveBayes(BaseEstimator, ClassifierMixin):\n",
    "    '''\n",
    "    Реализация наивного байеса, которая помимо X, y\n",
    "    принимает на вход во время обучения \n",
    "    виды распределений значений признаков\n",
    "    '''\n",
    "    def __init__(self):\n",
    "        pass\n",
    "    \n",
    "    def _find_bernoulli_params(self, x):\n",
    "        '''\n",
    "        метод возвращает найденный параметр `p`\n",
    "        распределения scipy.stats.bernoulli\n",
    "        '''\n",
    "        return dict(p=np.mean(x))\n",
    "    \n",
    "    def _get_bernoulli_probability(self, x, params):\n",
    "        '''\n",
    "        метод возвращает вероятность x для данных\n",
    "        параметров распределния\n",
    "        '''\n",
    "        return scipy.stats.bernoulli.pmf(x, **params)\n",
    "\n",
    "    def _find_expon_params(self, x):\n",
    "        loc, scale = scipy.stats.expon.fit(x)\n",
    "        return dict(loc=loc, scale=scale)\n",
    "    \n",
    "    def _get_expon_density(self, x, params):\n",
    "        return scipy.stats.expon.pdf(x, **params)\n",
    "\n",
    "    def _find_norm_params(self, x):\n",
    "        loc, scale = scipy.stats.norm.fit(x)\n",
    "        return dict(loc=loc, scale=scale)\n",
    "    \n",
    "    def _get_norm_density(self, x, params):\n",
    "        return scipy.stats.norm.pdf(x, **params)\n",
    "\n",
    "    def _get_params(self, x, distribution):\n",
    "        '''\n",
    "        x - значения из распределения,\n",
    "        distribution - название распределения в scipy.stats\n",
    "        '''\n",
    "        if distribution == 'bernoulli':\n",
    "            return self._find_bernoulli_params(x)\n",
    "        elif distribution == 'expon':\n",
    "            return self._find_expon_params(x)\n",
    "        elif distribution == 'norm':\n",
    "            return self._find_norm_params(x)\n",
    "        else:\n",
    "            raise NotImplementedError('Unknown distribution')\n",
    "            \n",
    "    def _get_probability_or_density(self, x, distribution, params):\n",
    "        '''\n",
    "        x - значения,\n",
    "        distribytion - название распределения в scipy.stats,\n",
    "        params - параметры распределения\n",
    "        '''\n",
    "        if distribution == 'bernoulli':\n",
    "            return self._get_bernoulli_probability(x, params)\n",
    "        elif distribution == 'expon':\n",
    "            return self._get_expon_density(x, params)\n",
    "        elif distribution == 'norm':\n",
    "            return self._get_norm_density(x, params)\n",
    "        else:\n",
    "            raise NotImplementedError('Unknown distribution')\n",
    "\n",
    "    def fit(self, X, y, distribution_names):\n",
    "        '''\n",
    "        X - обучающая выборка,\n",
    "        y - целевая переменная,\n",
    "        feature_distributions - список названий распределений, \n",
    "        по которым предположительно распределны значения P(x|y)\n",
    "        ''' \n",
    "        assert X.shape[1] == len(distribution_names)\n",
    "        assert set(y) == {0, 1}\n",
    "        self.n_classes = len(np.unique(y))\n",
    "        self.distribution_names = distribution_names\n",
    "        \n",
    "        self.y_prior = [(y == j).mean() for j in range(self.n_classes)]\n",
    "        \n",
    "        self.distributions_params = defaultdict(dict)\n",
    "        for i in range(X.shape[1]):\n",
    "            distribution = self.distribution_names[i]\n",
    "            for j in range(self.n_classes):\n",
    "                values = X[y == j, i]\n",
    "                self.distributions_params[j][i] = \\\n",
    "                    self._get_params(values, distribution)\n",
    "        \n",
    "        return self.distributions_params\n",
    "    \n",
    "    def predict(self, X):\n",
    "        '''\n",
    "        X - тестовая выборка\n",
    "        '''\n",
    "        assert X.shape[1] == len(self.distribution_names)\n",
    "        \n",
    "        preds = np.empty(shape=X.shape[0])\n",
    "        eps = 1e-6\n",
    "        for ind in range(X.shape[0]):\n",
    "            x = X[ind]\n",
    "            opt_val, opt_class = -1e7, 0\n",
    "            for y in range(self.n_classes):\n",
    "                val = np.log(self.y_prior[y]);\n",
    "                for i in range(len(x)):\n",
    "                    density = self._get_probability_or_density(x[i], self.distribution_names[i], self.distributions_params[y][i])\n",
    "                    val += np.log(density)\n",
    "                    if val > opt_val + eps:\n",
    "                        opt_val, opt_class = val, y\n",
    "            preds[ind] = opt_class\n",
    "        \n",
    "        return preds"
   ]
  },
  {
   "cell_type": "markdown",
   "metadata": {},
   "source": [
    "Проверим результат на примере первого распределения"
   ]
  },
  {
   "cell_type": "code",
   "execution_count": 4,
   "metadata": {},
   "outputs": [
    {
     "data": {
      "text/plain": [
       "defaultdict(dict, {0: {0: {'p': 0.1128}}, 1: {0: {'p': 0.482}}})"
      ]
     },
     "execution_count": 4,
     "metadata": {},
     "output_type": "execute_result"
    }
   ],
   "source": [
    "nb = NaiveBayes()\n",
    "nb.fit(X, y, ['bernoulli'])\n",
    "# defaultdict(dict, {0: {0: {'p': 0.1128}}, 1: {0: {'p': 0.482}}})"
   ]
  },
  {
   "cell_type": "code",
   "execution_count": 5,
   "metadata": {
    "scrolled": false
   },
   "outputs": [
    {
     "name": "stdout",
     "output_type": "stream",
     "text": [
      "0.6045\n"
     ]
    }
   ],
   "source": [
    "from sklearn.metrics import f1_score\n",
    "\n",
    "prediction = nb.predict(X)\n",
    "score = f1_score(y, prediction)\n",
    "print('{:.4f}'.format(score))\n",
    "\n",
    "# 0.6045"
   ]
  },
  {
   "cell_type": "markdown",
   "metadata": {},
   "source": [
    "# Ответы для формы"
   ]
  },
  {
   "cell_type": "markdown",
   "metadata": {},
   "source": [
    "Ответом для формы должны служить числа, которые будут выведены ниже. Все ответы проверены: в этих примерах получается одинаковый результат и через сумму логарифмов, и через произведение вероятностей."
   ]
  },
  {
   "cell_type": "code",
   "execution_count": 6,
   "metadata": {},
   "outputs": [
    {
     "name": "stdout",
     "output_type": "stream",
     "text": [
      "0.6045\n"
     ]
    },
    {
     "name": "stderr",
     "output_type": "stream",
     "text": [
      "/Users/romangershgorin/programming/dmia/dmia_env/lib/python3.6/site-packages/ipykernel_launcher.py:108: RuntimeWarning: divide by zero encountered in log\n"
     ]
    },
    {
     "name": "stdout",
     "output_type": "stream",
     "text": [
      "0.7303\n",
      "0.7303\n"
     ]
    },
    {
     "data": {
      "text/plain": [
       "'\\n[0. 0. 0. ... 0. 1. 0.]\\n0.6045\\n[0. 0. 1. ... 0. 1. 1.]\\n0.7303\\n[1. 1. 1. ... 0. 0. 0.]\\n0.7303\\n'"
      ]
     },
     "execution_count": 6,
     "metadata": {},
     "output_type": "execute_result"
    }
   ],
   "source": [
    "scipy.stats.bernoulli.name\n",
    "\n",
    "for fps in (func_params_set0 * 2,\n",
    "            func_params_set1, \n",
    "            func_params_set2):\n",
    "    \n",
    "\n",
    "    X, y, distribution_names = generate_dataset_for_nb(fps)\n",
    "    nb = NaiveBayes()\n",
    "    nb.fit(X, y, distribution_names)\n",
    "    prediction = nb.predict(X)\n",
    "    score = f1_score(y, prediction)\n",
    "    print('{:.4f}'.format(score))\n",
    "    \n",
    "'''\n",
    "[0. 0. 0. ... 0. 1. 0.]\n",
    "0.6045\n",
    "[0. 0. 1. ... 0. 1. 1.]\n",
    "0.7303\n",
    "[1. 1. 1. ... 0. 0. 0.]\n",
    "0.7303\n",
    "'''"
   ]
  }
 ],
 "metadata": {
  "kernelspec": {
   "display_name": "dmia_env",
   "language": "python",
   "name": "dmia_env"
  },
  "language_info": {
   "codemirror_mode": {
    "name": "ipython",
    "version": 3
   },
   "file_extension": ".py",
   "mimetype": "text/x-python",
   "name": "python",
   "nbconvert_exporter": "python",
   "pygments_lexer": "ipython3",
   "version": "3.6.7"
  }
 },
 "nbformat": 4,
 "nbformat_minor": 2
}
