{
 "cells": [
  {
   "cell_type": "markdown",
   "metadata": {},
   "source": [
    "# Реализуем метод predict_proba для KNN"
   ]
  },
  {
   "cell_type": "markdown",
   "metadata": {},
   "source": [
    "Ниже реализован класс KNeighborsClassifier, который для поиска ближайших соседей использует sklearn.neighbors.NearestNeighbors\n",
    "\n",
    "Требуется реализовать метод predict_proba для вычисления ответа классификатора."
   ]
  },
  {
   "cell_type": "code",
   "execution_count": 1,
   "metadata": {},
   "outputs": [],
   "source": [
    "import numpy as np\n",
    "\n",
    "from sklearn.base import BaseEstimator, ClassifierMixin\n",
    "from sklearn.neighbors import NearestNeighbors\n",
    "\n",
    "\n",
    "class KNeighborsClassifier(BaseEstimator, ClassifierMixin):\n",
    "    '''\n",
    "    Класс, который позволит нам изучить KNN\n",
    "    '''\n",
    "    def __init__(self, n_neighbors=5, weights='uniform', \n",
    "                 metric='minkowski', p=2):\n",
    "        '''\n",
    "        Инициализируем KNN с несколькими стандартными параметрами\n",
    "        '''\n",
    "        assert weights in ('uniform', 'distance')\n",
    "        \n",
    "        self.n_neighbors = n_neighbors\n",
    "        self.weights = weights\n",
    "        self.metric = metric\n",
    "        \n",
    "        self.NearestNeighbors = NearestNeighbors(\n",
    "            n_neighbors = n_neighbors,\n",
    "            metric = self.metric)\n",
    "    \n",
    "    def fit(self, X, y):\n",
    "        '''\n",
    "        Используем sklearn.neighbors.NearestNeighbors \n",
    "        для запоминания обучающей выборки\n",
    "        и последующего поиска соседей\n",
    "        '''\n",
    "        self.NearestNeighbors.fit(X)\n",
    "        self.n_classes = len(np.unique(y))\n",
    "        self.y = y\n",
    "        \n",
    "    def predict_proba(self, X, use_first_zero_distant_sample=True):\n",
    "        '''\n",
    "        Чтобы реализовать этот метод, \n",
    "        изучите работу sklearn.neighbors.NearestNeighbors'''\n",
    "        \n",
    "        distances, inds = self.NearestNeighbors.kneighbors(X)\n",
    "        labels = np.array([self.y[i] for i in inds])\n",
    "        \n",
    "        # получим здесь расстояния до соседей distances и их метки\n",
    "        \n",
    "        if self.weights == 'uniform':\n",
    "            w = np.ones(distances.shape)\n",
    "        else:\n",
    "            # чтобы не делить на 0, \n",
    "            # добавим небольшую константу, например 1e-3\n",
    "            w = 1/(distances + 1e-3)\n",
    "\n",
    "        classes = np.unique(self.y)\n",
    "\n",
    "        probs = np.empty(shape = (len(X), len(classes)), dtype=np.ndarray)\n",
    "        for obj_index in range(len(X)):\n",
    "            nearest_neighbors = zip(w[obj_index], labels[obj_index])\n",
    "            probs_map = {c:0 for c in classes}\n",
    "            weight_sum = 0\n",
    "            for distance, label in nearest_neighbors:\n",
    "                probs_map[label] += distance;\n",
    "                weight_sum += distance;\n",
    "            probs[obj_index] = np.array([probs_map[l] / weight_sum for l in classes])\n",
    "            #print(obj_index, w[obj_index], labels[obj_index], probs[obj_index])\n",
    "            \n",
    "        # реализуем вычисление предсказаний:\n",
    "        # выбрав один объект, для каждого класса посчитаем\n",
    "        # суммарный вес голосующих за него объектов\n",
    "        # затем нормируем эти веса на их сумму\n",
    "        # и вернем это как предсказание KNN\n",
    "        return probs"
   ]
  },
  {
   "cell_type": "markdown",
   "metadata": {},
   "source": [
    "# Загрузим данные и обучим классификатор"
   ]
  },
  {
   "cell_type": "code",
   "execution_count": 2,
   "metadata": {
    "scrolled": false
   },
   "outputs": [],
   "source": [
    "from sklearn.datasets import load_iris\n",
    "X, y = load_iris(return_X_y=True)\n",
    "\n",
    "knn = KNeighborsClassifier(weights='distance')\n",
    "knn.fit(X, y)\n",
    "prediction = knn.predict_proba(X, )"
   ]
  },
  {
   "cell_type": "markdown",
   "metadata": {},
   "source": [
    "Поскольку мы используем одну и ту же выборку для обучения и предсказания, ближайшим соседом любого объекта будет он же сам. В качестве упражнения предлагаю реализовать метод transform, который реализует получение предсказаний для обучающей выборки, но для каждого объекта не будет учитывать его самого.\n",
    "\n",
    "Посмотрим, в каких объектах max(prediction) != 1:"
   ]
  },
  {
   "cell_type": "code",
   "execution_count": 3,
   "metadata": {},
   "outputs": [
    {
     "name": "stdout",
     "output_type": "stream",
     "text": [
      "[ 56  68  70  72  77  83 106 110 119 123 127 133 134 138 146]\n"
     ]
    }
   ],
   "source": [
    "inds = np.arange(len(prediction))[prediction.max(1) != 1]\n",
    "print(inds)\n",
    "\n",
    "# [ 56  68  70  72  77  83 106 110 119 123 127 133 134 138 146]"
   ]
  },
  {
   "cell_type": "markdown",
   "metadata": {},
   "source": [
    "Несколько примеров, на которых можно проверить правильность реализованного метода:"
   ]
  },
  {
   "cell_type": "code",
   "execution_count": 4,
   "metadata": {},
   "outputs": [
    {
     "name": "stdout",
     "output_type": "stream",
     "text": [
      "68 [0.0 0.998163109597907 0.001836890402092989]\n",
      "77 [0.0 0.9952790210991134 0.0047209789008865475]\n",
      "146 [0.0 0.0023914455604554055 0.9976085544395445]\n"
     ]
    }
   ],
   "source": [
    "for i in 1, 4, -1:\n",
    "    print(inds[i], prediction[inds[i]])\n",
    "\n",
    "# 68 [0.         0.99816311 0.00183689]\n",
    "# 77 [0.         0.99527902 0.00472098]\n",
    "# 146 [0.         0.00239145 0.99760855]"
   ]
  },
  {
   "cell_type": "markdown",
   "metadata": {},
   "source": [
    "# Ответы для формы"
   ]
  },
  {
   "cell_type": "markdown",
   "metadata": {},
   "source": [
    "В форму требуется ввести max(prediction) для объекта. Если метод реализован верно, то ячейка ниже распечатает ответы, которые нужно ввести в форму"
   ]
  },
  {
   "cell_type": "code",
   "execution_count": 5,
   "metadata": {},
   "outputs": [
    {
     "name": "stdout",
     "output_type": "stream",
     "text": [
      "0.9978\n",
      "0.9889\n",
      "0.9967\n"
     ]
    }
   ],
   "source": [
    "for i in 56, 83, 127:\n",
    "    print('{:.4f}'.format(max(prediction[i])))"
   ]
  },
  {
   "cell_type": "code",
   "execution_count": 6,
   "metadata": {},
   "outputs": [
    {
     "name": "stdout",
     "output_type": "stream",
     "text": [
      "(array([[0. , 0.3]]), array([[1, 2]]))\n"
     ]
    }
   ],
   "source": [
    "samples = [[5.1, 3.5, 1.4, 0.2],\n",
    "[4.9, 3.,  1.4, 0.2],\n",
    "[4.7, 3.2, 1.3, 0.2],\n",
    "[4.6, 3.1, 1.5, 0.2]]\n",
    "from sklearn.neighbors import NearestNeighbors\n",
    "neigh = NearestNeighbors(n_neighbors=2)\n",
    "neigh.fit(samples) \n",
    "NearestNeighbors(algorithm='auto', metric='l1', leaf_size=30)\n",
    "print(neigh.kneighbors([[4.9, 3.,  1.4, 0.2]])) \n"
   ]
  },
  {
   "cell_type": "code",
   "execution_count": 7,
   "metadata": {},
   "outputs": [
    {
     "name": "stdout",
     "output_type": "stream",
     "text": [
      "{1: 0, 2: 0, 3: 0}\n"
     ]
    }
   ],
   "source": [
    "x = [1,2,3]\n",
    "y = {r:0 for r in x}\n",
    "print(y)"
   ]
  },
  {
   "cell_type": "code",
   "execution_count": 8,
   "metadata": {},
   "outputs": [],
   "source": [
    "x = np.array([1.,2.,3.])\n",
    "y = np.empty(shape = (2,3), dtype=np.ndarray)\n"
   ]
  },
  {
   "cell_type": "code",
   "execution_count": 9,
   "metadata": {},
   "outputs": [],
   "source": [
    "y [0] = x"
   ]
  },
  {
   "cell_type": "code",
   "execution_count": 10,
   "metadata": {},
   "outputs": [
    {
     "name": "stdout",
     "output_type": "stream",
     "text": [
      "[[1.0 2.0 3.0]\n",
      " [None None None]]\n"
     ]
    }
   ],
   "source": [
    "print(y)"
   ]
  },
  {
   "cell_type": "code",
   "execution_count": null,
   "metadata": {},
   "outputs": [],
   "source": []
  }
 ],
 "metadata": {
  "kernelspec": {
   "display_name": "dmia_env",
   "language": "python",
   "name": "dmia_env"
  },
  "language_info": {
   "codemirror_mode": {
    "name": "ipython",
    "version": 3
   },
   "file_extension": ".py",
   "mimetype": "text/x-python",
   "name": "python",
   "nbconvert_exporter": "python",
   "pygments_lexer": "ipython3",
   "version": "3.6.7"
  }
 },
 "nbformat": 4,
 "nbformat_minor": 2
}
